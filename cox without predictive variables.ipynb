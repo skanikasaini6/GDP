{
  "nbformat": 4,
  "nbformat_minor": 0,
  "metadata": {
    "colab": {
      "name": "Untitled5.ipynb",
      "version": "0.3.2",
      "provenance": [],
      "include_colab_link": true
    },
    "kernelspec": {
      "name": "python3",
      "display_name": "Python 3"
    }
  },
  "cells": [
    {
      "cell_type": "markdown",
      "metadata": {
        "id": "view-in-github",
        "colab_type": "text"
      },
      "source": [
        "<a href=\"https://colab.research.google.com/github/skanikasaini6/GDP/blob/master/cox%20without%20predictive%20variables.ipynb\" target=\"_parent\"><img src=\"https://colab.research.google.com/assets/colab-badge.svg\" alt=\"Open In Colab\"/></a>"
      ]
    },
    {
      "metadata": {
        "id": "0fDHJCRapa2x",
        "colab_type": "code",
        "outputId": "9f340078-a815-4d6e-9a66-6dff74706b21",
        "colab": {
          "base_uri": "https://localhost:8080/",
          "height": 488
        }
      },
      "cell_type": "code",
      "source": [
        "!pip install scikit-survival"
      ],
      "execution_count": 1,
      "outputs": [
        {
          "output_type": "stream",
          "text": [
            "Collecting scikit-survival\n",
            "\u001b[?25l  Downloading https://files.pythonhosted.org/packages/44/40/c2edb93198a678d5db7a76e45e0fc08543ef4e66303a0926291a6ddc2cc7/scikit-survival-0.7.tar.gz (2.1MB)\n",
            "\u001b[K    100% |████████████████████████████████| 2.1MB 6.9MB/s \n",
            "\u001b[?25hRequirement already satisfied: cvxopt in /usr/local/lib/python3.6/dist-packages (from scikit-survival) (1.2.3)\n",
            "Requirement already satisfied: cvxpy>=1.0 in /usr/local/lib/python3.6/dist-packages (from scikit-survival) (1.0.15)\n",
            "Requirement already satisfied: numexpr in /usr/local/lib/python3.6/dist-packages (from scikit-survival) (2.6.9)\n",
            "Requirement already satisfied: numpy in /usr/local/lib/python3.6/dist-packages (from scikit-survival) (1.14.6)\n",
            "Requirement already satisfied: pandas<0.24,>=0.20 in /usr/local/lib/python3.6/dist-packages (from scikit-survival) (0.22.0)\n",
            "Requirement already satisfied: scipy in /usr/local/lib/python3.6/dist-packages (from scikit-survival) (1.1.0)\n",
            "Requirement already satisfied: scikit-learn<0.21,>=0.19.0 in /usr/local/lib/python3.6/dist-packages (from scikit-survival) (0.20.3)\n",
            "Requirement already satisfied: osqp in /usr/local/lib/python3.6/dist-packages (from cvxpy>=1.0->scikit-survival) (0.5.0)\n",
            "Requirement already satisfied: ecos>=2 in /usr/local/lib/python3.6/dist-packages (from cvxpy>=1.0->scikit-survival) (2.0.7.post1)\n",
            "Requirement already satisfied: scs>=1.1.3 in /usr/local/lib/python3.6/dist-packages (from cvxpy>=1.0->scikit-survival) (2.1.0)\n",
            "Requirement already satisfied: multiprocess in /usr/local/lib/python3.6/dist-packages (from cvxpy>=1.0->scikit-survival) (0.70.7)\n",
            "Requirement already satisfied: fastcache in /usr/local/lib/python3.6/dist-packages (from cvxpy>=1.0->scikit-survival) (1.0.2)\n",
            "Requirement already satisfied: six in /usr/local/lib/python3.6/dist-packages (from cvxpy>=1.0->scikit-survival) (1.11.0)\n",
            "Requirement already satisfied: pytz>=2011k in /usr/local/lib/python3.6/dist-packages (from pandas<0.24,>=0.20->scikit-survival) (2018.9)\n",
            "Requirement already satisfied: python-dateutil>=2 in /usr/local/lib/python3.6/dist-packages (from pandas<0.24,>=0.20->scikit-survival) (2.5.3)\n",
            "Requirement already satisfied: future in /usr/local/lib/python3.6/dist-packages (from osqp->cvxpy>=1.0->scikit-survival) (0.16.0)\n",
            "Requirement already satisfied: dill>=0.2.9 in /usr/local/lib/python3.6/dist-packages (from multiprocess->cvxpy>=1.0->scikit-survival) (0.2.9)\n",
            "Building wheels for collected packages: scikit-survival\n",
            "  Building wheel for scikit-survival (setup.py) ... \u001b[?25ldone\n",
            "\u001b[?25h  Stored in directory: /root/.cache/pip/wheels/7b/bf/77/eb6f918b703ba0bcb7090079cbb8679c0d6747e4730be7daf7\n",
            "Successfully built scikit-survival\n",
            "Installing collected packages: scikit-survival\n",
            "Successfully installed scikit-survival-0.7\n"
          ],
          "name": "stdout"
        }
      ]
    },
    {
      "metadata": {
        "id": "bVplpJfVpdOH",
        "colab_type": "code",
        "outputId": "4ca25754-9963-4f9e-bc8f-d6b76bc3fc38",
        "colab": {
          "resources": {
            "http://localhost:8080/nbextensions/google.colab/files.js": {
              "data": "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",
              "ok": true,
              "headers": [
                [
                  "content-type",
                  "application/javascript"
                ]
              ],
              "status": 200,
              "status_text": ""
            }
          },
          "base_uri": "https://localhost:8080/",
          "height": 110
        }
      },
      "cell_type": "code",
      "source": [
        "from google.colab import files\n",
        "files.upload()"
      ],
      "execution_count": 3,
      "outputs": [
        {
          "output_type": "display_data",
          "data": {
            "text/html": [
              "\n",
              "     <input type=\"file\" id=\"files-20b91e9e-c76f-4515-b44e-9ad4ac098bde\" name=\"files[]\" multiple disabled />\n",
              "     <output id=\"result-20b91e9e-c76f-4515-b44e-9ad4ac098bde\">\n",
              "      Upload widget is only available when the cell has been executed in the\n",
              "      current browser session. Please rerun this cell to enable.\n",
              "      </output>\n",
              "      <script src=\"/nbextensions/google.colab/files.js\"></script> "
            ],
            "text/plain": [
              "<IPython.core.display.HTML object>"
            ]
          },
          "metadata": {
            "tags": []
          }
        },
        {
          "output_type": "stream",
          "text": [
            "Saving cox Luad.xlsx to cox Luad.xlsx\n",
            "Saving LUAD - Copy.xlsx to LUAD - Copy.xlsx\n"
          ],
          "name": "stdout"
        }
      ]
    },
    {
      "metadata": {
        "id": "EqUp-7Q-EXhn",
        "colab_type": "code",
        "colab": {}
      },
      "cell_type": "code",
      "source": [
        ""
      ],
      "execution_count": 0,
      "outputs": []
    },
    {
      "metadata": {
        "id": "_xZQqWbZMJD3",
        "colab_type": "code",
        "colab": {}
      },
      "cell_type": "code",
      "source": [
        "import pandas as pd\n",
        "dt=pd.read_excel('LUAD - Copy.xlsx',index_col=0)\n",
        "tar=pd.read_excel('cox Luad.xlsx')\n"
      ],
      "execution_count": 0,
      "outputs": []
    },
    {
      "metadata": {
        "id": "-M2lXYVuOkIs",
        "colab_type": "code",
        "colab": {}
      },
      "cell_type": "code",
      "source": [
        "result=tar.to_records(index=False)"
      ],
      "execution_count": 0,
      "outputs": []
    },
    {
      "metadata": {
        "id": "-u_NgvKkOkLg",
        "colab_type": "code",
        "colab": {}
      },
      "cell_type": "code",
      "source": [
        "tar['Patient\\'s Vital Status' ]=tar['Patient\\'s Vital Status' ].astype('bool')"
      ],
      "execution_count": 0,
      "outputs": []
    },
    {
      "metadata": {
        "id": "5Q2dZ91xOkOL",
        "colab_type": "code",
        "outputId": "17a665a8-d350-4988-d3a2-0bb70373525c",
        "colab": {
          "base_uri": "https://localhost:8080/",
          "height": 3033
        }
      },
      "cell_type": "code",
      "source": [
        "result"
      ],
      "execution_count": 10,
      "outputs": [
        {
          "output_type": "execute_result",
          "data": {
            "text/plain": [
              "rec.array([( True, 0.0000e+00), ( True, 5.0030e+01), (False, 3.9800e+00),\n",
              "           (False, 1.9940e+01), ( True, 1.3990e+01), ( True, 4.4970e+01),\n",
              "           ( True, 3.6990e+01), (False, 0.0000e+00), (False, 9.9500e+00),\n",
              "           (False, 2.4010e+01), ( True, 4.7010e+01), (False, 8.0200e+00),\n",
              "           ( True, 1.8990e+01), ( True, 2.0040e+01), ( True, 0.0000e+00),\n",
              "           (False, 2.9900e+00), ( True, 1.4950e+01), (False, 9.0000e+00),\n",
              "           ( True, 2.9960e+01), ( True, 1.1990e+01), ( True, 2.9990e+01),\n",
              "           ( True, 2.1980e+01), ( True, 2.5990e+01), ( True, 2.5990e+01),\n",
              "           ( True, 2.5000e+01), ( True, 2.5000e+01), ( True, 2.3980e+01),\n",
              "           (False, 1.5010e+01), ( True, 1.5010e+01), ( True, 4.9600e+00),\n",
              "           ( True, 2.8980e+01), ( True, 2.2010e+01), (False, 9.0300e+00),\n",
              "           ( True, 2.0400e+00), ( True, 4.6000e-01), ( True, 7.3900e+00),\n",
              "           ( True, 5.9800e+00), ( True, 8.6700e+00), ( True, 9.7670e+01),\n",
              "           ( True, 1.2070e+02), (False, 3.7680e+01), (False, 4.9010e+01),\n",
              "           (False, 2.8380e+01), (False, 3.5250e+01), (False, 1.1630e+01),\n",
              "           (False, 4.4580e+01), ( True, 1.4720e+01), (False, 2.6280e+01),\n",
              "           ( True, 4.3700e+00), ( True, 4.3500e+01), ( True, 4.6940e+01),\n",
              "           ( True, 4.4380e+01), ( True, 4.4910e+01), ( True, 3.8070e+01),\n",
              "           ( True, 4.2050e+01), ( True, 4.2740e+01), (False, 3.1900e+00),\n",
              "           (False, 2.5000e+01), ( True, 3.7120e+01), ( True, 3.8210e+01),\n",
              "           ( True, 3.4030e+01), (False, 3.3710e+01), (False, 2.6540e+01),\n",
              "           ( True, 3.3280e+01), ( True, 2.8350e+01), ( True, 2.7990e+01),\n",
              "           ( True, 1.9550e+01), ( True, 2.3920e+01), ( True, 2.7760e+01),\n",
              "           ( True, 2.3130e+01), ( True, 2.1620e+01), ( True, 2.3160e+01),\n",
              "           ( True, 8.5940e+01), (False, 3.2420e+01), ( True, 6.1240e+01),\n",
              "           (False, 1.6430e+01), ( True, 2.2700e+01), ( True, 1.9450e+01),\n",
              "           (False, 1.8300e+01), ( True, 7.1600e+00), ( True, 3.6040e+01),\n",
              "           (False, 1.8860e+01), ( True, 2.8980e+01), ( True, 2.9200e+01),\n",
              "           ( True, 2.3620e+01), ( True, 1.2650e+01), ( True, 9.3600e+00),\n",
              "           ( True, 8.5400e+00), ( True, 1.5970e+01), ( True, 1.5310e+01),\n",
              "           ( True, 9.4300e+00), ( True, 1.1530e+01), ( True, 1.3630e+01),\n",
              "           (False, 1.3440e+01), (False, 7.6150e+01), (False, 2.8090e+01),\n",
              "           (False, 2.8550e+01), (False, 1.2650e+01), (False, 3.5510e+01),\n",
              "           (False, 4.6680e+01), (False, 1.4060e+01), (False, 3.2820e+01),\n",
              "           (False, 8.8000e+00), (False, 2.9430e+01), (False, 2.9730e+01),\n",
              "           ( True, 5.5850e+01), (False, 1.6030e+01), ( True, 5.3250e+01),\n",
              "           ( True, 5.5290e+01), ( True, 1.7150e+01), ( True, 1.1630e+01),\n",
              "           ( True, 2.2240e+01), (False, 2.2240e+01), ( True, 1.5654e+02),\n",
              "           ( True, 7.3060e+01), ( True, 6.2190e+01), (False, 2.8880e+01),\n",
              "           (False, 8.5400e+00), (False, 4.0370e+01), (False, 3.7290e+01),\n",
              "           ( True, 1.2349e+02), ( True, 2.2116e+02), ( True, 1.6399e+02),\n",
              "           (False, 9.8600e+00), (False, 2.0500e+01), (False, 7.1420e+01),\n",
              "           ( True, 1.0164e+02), (False, 1.5700e+01), (False, 6.0120e+01),\n",
              "           ( True, 4.7370e+01), ( True, 4.7370e+01), (False, 4.9240e+01),\n",
              "           (False, 8.2100e+00), (False, 9.2600e+00), (False, 1.4260e+01),\n",
              "           (False, 4.0570e+01), (False, 7.8610e+01), (False, 2.1450e+01),\n",
              "           (False, 8.4400e+00), (False, 1.5110e+01), ( True, 4.8420e+01),\n",
              "           ( True, 6.0680e+01), ( True, 5.7490e+01), ( True, 5.3120e+01),\n",
              "           ( True, 5.3120e+01), (False, 4.2310e+01), (False, 3.9100e+00),\n",
              "           (False, 2.5530e+01), (False, 1.1040e+01), (False, 1.2160e+01),\n",
              "           (False, 6.2100e+00), (False, 4.1660e+01), (False, 7.2000e-01),\n",
              "           (False, 1.0120e+01), ( True, 3.6960e+01), ( True, 3.6760e+01),\n",
              "           ( True, 2.7230e+01), (False, 3.4260e+01), (False, 3.0520e+01),\n",
              "           ( True, 1.3930e+01), ( True, 3.5180e+01), (False, 2.3030e+01),\n",
              "           ( True, 3.8700e+01), ( True, 4.8590e+01), ( True, 6.7840e+01),\n",
              "           ( True, 3.0550e+01), ( True, 1.4290e+01), ( True, 8.0450e+01),\n",
              "           (False, 5.6200e+00), (False, 4.2480e+01), ( True, 4.0700e+01),\n",
              "           (False, 1.5240e+01), ( True, 4.5990e+01), (False, 5.3610e+01),\n",
              "           (False, 3.8800e+00), (False, 5.7800e+00), (False, 7.7900e+00),\n",
              "           ( True, 6.9280e+01), (False, 4.5300e+01), (False, 3.2690e+01),\n",
              "           ( True, 9.2740e+01), (False, 2.4970e+01), ( True, 4.0510e+01),\n",
              "           ( True, 1.0713e+02), ( True, 7.0200e+01), (False, 3.1270e+01),\n",
              "           ( True, 2.8650e+01), ( True, 2.0010e+01), (False, 7.9800e+00),\n",
              "           ( True, 2.7070e+01), ( True, 1.6000e+01), (False, 3.2690e+01),\n",
              "           ( True, 2.2010e+01), ( True, 2.3160e+01), ( True, 1.4520e+01),\n",
              "           ( True, 2.1420e+01), ( True, 3.9100e+00), ( True, 2.3130e+01),\n",
              "           ( True, 2.5390e+01), (False, 1.5370e+01), ( True, 1.8630e+01),\n",
              "           (False, 1.1270e+01), ( True, 3.4170e+01), ( True, 1.7640e+01),\n",
              "           (False, 1.8430e+01), (False, 6.1400e+00), ( True, 1.9810e+01),\n",
              "           ( True, 2.9200e+01), ( True, 2.9700e+01), ( True, 1.5180e+01),\n",
              "           (False, 2.3060e+01), (False, 1.9650e+01), ( True, 1.9710e+01),\n",
              "           (False, 5.0600e+00), ( True, 1.7770e+01), (False, 2.3620e+01),\n",
              "           ( True, 1.5640e+01), ( True, 1.7970e+01), ( True, 1.6920e+01),\n",
              "           ( True, 1.9680e+01), ( True, 2.9170e+01), ( True, 3.2100e+01),\n",
              "           ( True, 2.2140e+01), (False, 1.5410e+01), ( True, 1.7540e+01),\n",
              "           ( True, 1.5700e+01), ( True, 1.4450e+01), ( True, 3.6000e-01),\n",
              "           ( True, 1.3730e+01), ( True, 2.0270e+01), ( True, 1.7710e+01),\n",
              "           ( True, 1.8130e+01), (False, 1.9940e+01), ( True, 2.5990e+01),\n",
              "           ( True, 1.7080e+01), ( True, 1.7610e+01), ( True, 1.4650e+01),\n",
              "           ( True, 1.5800e+00), ( True, 1.3670e+01), (False, 1.2320e+01),\n",
              "           ( True, 1.6920e+01), ( True, 2.2630e+01), ( True, 2.0700e+01),\n",
              "           ( True, 2.1390e+01), (False, 3.2500e+00), ( True, 2.0570e+01),\n",
              "           ( True, 1.9580e+01), ( True, 9.2000e-01), ( True, 1.5800e+01),\n",
              "           (False, 2.0170e+01), ( True, 1.9970e+01), ( True, 1.7940e+01),\n",
              "           (False, 4.5700e+00), ( True, 3.9950e+01), ( True, 4.2350e+01),\n",
              "           (False, 1.4590e+01), ( True, 8.8570e+01), (False, 4.9210e+01),\n",
              "           (False, 4.7770e+01), (False, 1.9510e+01), (False, 5.6670e+01),\n",
              "           (False, 5.4300e+01), ( True, 6.7900e+01), ( True, 7.2240e+01),\n",
              "           (False, 1.3600e+01), (False, 3.9220e+01), ( True, 4.0930e+01),\n",
              "           ( True, 2.9890e+01), ( True, 5.6770e+01), (False, 2.0630e+01),\n",
              "           ( True, 3.9060e+01), ( True, 8.1730e+01), ( True, 3.6990e+01),\n",
              "           (False, 3.8340e+01), ( True, 8.7910e+01), (False, 2.0400e+00),\n",
              "           ( True, 4.2870e+01), ( True, 2.8380e+01), ( True, 5.1220e+01),\n",
              "           ( True, 2.8450e+01), ( True, 2.0040e+01), ( True, 2.0040e+01),\n",
              "           ( True, 1.8820e+01), ( True, 1.4030e+01), ( True, 1.2650e+01),\n",
              "           ( True, 1.4720e+01), ( True, 5.7200e+00), ( True, 4.6300e+00),\n",
              "           ( True, 1.3860e+01), ( True, 6.6400e+00), ( True, 6.1100e+00),\n",
              "           ( True, 2.2670e+01), ( True, 1.3600e+01), ( True, 5.4200e+00),\n",
              "           ( True, 7.5600e+00), ( True, 6.0400e+00), ( True, 4.4000e+00),\n",
              "           ( True, 1.3400e+01), ( True, 1.3500e+01), ( True, 1.3990e+01),\n",
              "           ( True, 1.3440e+01), ( True, 4.2400e+00), ( True, 2.6710e+01),\n",
              "           ( True, 1.9420e+01), ( True, 8.4100e+00), (False, 6.9000e+00),\n",
              "           (False, 5.2560e+01), (False, 2.3360e+01), ( True, 8.2620e+01),\n",
              "           ( True, 2.6280e+01), ( True, 1.5340e+01), ( True, 4.3000e+00),\n",
              "           (False, 3.0290e+01), (False, 9.2300e+00), (False, 1.2500e+00),\n",
              "           ( True, 3.9060e+01), (False, 5.0300e+01), (False, 1.1170e+01),\n",
              "           (False, 0.0000e+00), (False, 6.6590e+01), ( True, 0.0000e+00),\n",
              "           ( True, 7.7790e+01), ( True, 4.3790e+01), ( True, 0.0000e+00),\n",
              "           (False, 0.0000e+00), ( True, 8.5090e+01), (False, 0.0000e+00),\n",
              "           (False, 0.0000e+00), (False, 4.9800e+01), (False, 3.6630e+01),\n",
              "           ( True, 1.0857e+02), ( True, 1.0049e+02), ( True, 0.0000e+00),\n",
              "           ( True, 0.0000e+00), (False, 1.6298e+02), (False, 2.7140e+01),\n",
              "           (False, 5.6800e+00), (False, 1.9250e+01), (False, 2.0570e+01),\n",
              "           ( True, 1.2943e+02), (False, 2.1880e+01), (False, 3.9910e+01),\n",
              "           ( True, 1.1942e+02), (False, 1.9480e+01), (False, 3.8470e+01),\n",
              "           (False, 3.2060e+01), (False, 5.8800e+00), ( True, 6.4850e+01),\n",
              "           (False, 2.2900e+01), (False, 9.5600e+00), (False, 1.0411e+02),\n",
              "           ( True, 2.3811e+02), (False, 8.4800e+00), (False, 8.8070e+01),\n",
              "           (False, 2.6510e+01), (False, 3.1180e+01), (False, 8.0200e+00),\n",
              "           (False, 5.3290e+01), ( True, 2.5990e+01), (False, 3.9320e+01),\n",
              "           (False, 1.0550e+01), (False, 5.0200e+01), ( True, 2.3200e+02),\n",
              "           (False, 3.9720e+01), ( True, 7.7530e+01), (False, 1.0550e+01),\n",
              "           (False, 1.1041e+02), ( True, 0.0000e+00), ( True, 9.3040e+01),\n",
              "           ( True, 8.5250e+01), ( True, 2.7070e+01), (False, 1.2350e+01),\n",
              "           ( True, 5.8800e+00), ( True, 3.1110e+01), (False, 3.4360e+01),\n",
              "           ( True, 3.8010e+01), (False, 2.0530e+01), ( True, 3.2750e+01),\n",
              "           ( True, 1.9880e+01), ( True, 3.5220e+01), ( True, 3.7710e+01),\n",
              "           (False, 4.0700e+00), ( True, 4.5700e+00), ( True, 2.4310e+01),\n",
              "           ( True, 7.9000e-01), (False, 2.2800e+01), ( True, 3.2620e+01),\n",
              "           ( True, 3.1010e+01), ( True, 3.1180e+01), ( True, 2.3030e+01),\n",
              "           ( True, 0.0000e+00), ( True, 2.1450e+01), (False, 1.4590e+01),\n",
              "           ( True, 1.1600e+01), ( True, 1.3900e+01), ( True, 3.0810e+01),\n",
              "           ( True, 2.7560e+01), (False, 6.2000e-01), ( True, 2.8320e+01),\n",
              "           ( True, 2.6480e+01), ( True, 2.9430e+01), (False, 3.8100e+00),\n",
              "           (False, 2.4210e+01), ( True, 1.3630e+01), ( True, 2.6450e+01),\n",
              "           ( True, 1.0610e+01), (False, 4.1330e+01), ( True, 1.9700e+00),\n",
              "           ( True, 1.0180e+01), ( True, 2.6000e+00), ( True, 1.3700e+01),\n",
              "           ( True, 1.2220e+01), ( True, 2.7660e+01), ( True, 7.3600e+00),\n",
              "           ( True, 1.1500e+00), ( True, 1.6160e+01), ( True, 1.6590e+01),\n",
              "           (False, 1.4260e+01), ( True, 1.1800e+00), ( True, 1.4500e+00),\n",
              "           ( True, 1.9810e+01), ( True, 2.2440e+01), ( True, 1.7440e+01),\n",
              "           ( True, 6.1100e+00), ( True, 2.3590e+01), (False, 1.0800e+00),\n",
              "           ( True, 1.8990e+01), ( True, 1.7280e+01), ( True, 4.1790e+01),\n",
              "           (False, 1.6520e+01), (False, 2.8600e+00), ( True, 1.8660e+01),\n",
              "           ( True, 1.2390e+01), ( True, 1.5670e+01), ( True, 1.5640e+01),\n",
              "           ( True, 2.7270e+01), ( True, 2.7600e+00), ( True, 2.1390e+01),\n",
              "           ( True, 1.8170e+01), ( True, 1.9880e+01), ( True, 4.2210e+01),\n",
              "           ( True, 6.4550e+01), ( True, 6.3470e+01), ( True, 6.1430e+01),\n",
              "           ( True, 2.5460e+01), ( True, 1.8530e+01), (False, 5.9000e-01),\n",
              "           ( True, 1.5900e+01), ( True, 1.8660e+01), ( True, 1.7900e+01),\n",
              "           (False, 5.3900e+00), ( True, 1.8100e+01), (False, 1.5370e+01),\n",
              "           ( True, 1.6390e+01), ( True, 1.4290e+01), ( True, 2.1580e+01),\n",
              "           ( True, 2.0570e+01), ( True, 2.0170e+01), ( True, 2.1420e+01),\n",
              "           ( True, 1.9740e+01), ( True, 2.0500e+01), ( True, 1.7740e+01),\n",
              "           ( True, 2.0830e+01), ( True, 1.8660e+01), ( True, 2.0660e+01),\n",
              "           ( True, 2.4540e+01), ( True, 3.4820e+01), ( True, 3.6730e+01),\n",
              "           ( True, 1.4500e+00), (False, 2.1550e+01), ( True, 2.1620e+01),\n",
              "           ( True, 2.4280e+01), ( True, 2.3780e+01), (False, 1.8070e+01),\n",
              "           ( True, 3.5450e+01), ( True, 3.2460e+01), ( True, 1.8990e+01),\n",
              "           ( True, 1.4290e+01), (False, 6.3400e+00), ( True, 1.0090e+01),\n",
              "           (False, 1.4520e+01), (False, 1.9100e+00), ( True, 2.1810e+01),\n",
              "           ( True, 1.8560e+01), ( True, 1.5640e+01), ( True, 2.7170e+01),\n",
              "           ( True, 3.8600e+01), ( True, 2.7600e+00), (False, 8.6070e+01),\n",
              "           (False, 5.8410e+01), (False, 4.9310e+01), (False, 8.5970e+01),\n",
              "           (False, 5.8800e+01), (False, 5.4900e+00), (False, 5.2900e+00),\n",
              "           (False, 4.1560e+01), (False, 3.1210e+01), (False, 2.4300e+00),\n",
              "           (False, 1.0090e+01), (False, 2.9430e+01), (False, 1.1040e+01),\n",
              "           ( True, 2.4340e+01), (False, 1.4090e+01), (False, 1.1140e+01),\n",
              "           (False, 1.9120e+01), ( True, 7.3850e+01), ( True, 7.0990e+01),\n",
              "           ( True, 7.4280e+01), (False, 1.3000e-01), ( True, 1.6400e+00),\n",
              "           ( True, 4.7040e+01), ( True, 4.9000e-01), ( True, 4.3000e-01),\n",
              "           ( True, 1.9810e+01), ( True, 2.0270e+01), (False, 5.9070e+01),\n",
              "           ( True, 1.6850e+01)],\n",
              "          dtype=[(\"Patient's Vital Status\", '?'), ('Survival ', '<f8')])"
            ]
          },
          "metadata": {
            "tags": []
          },
          "execution_count": 10
        }
      ]
    },
    {
      "metadata": {
        "id": "L2dhufe9OOw8",
        "colab_type": "code",
        "outputId": "b6e07633-c1ee-4da6-e220-a1e2e8210ea5",
        "colab": {
          "base_uri": "https://localhost:8080/",
          "height": 139
        }
      },
      "cell_type": "code",
      "source": [
        "from sklearn.model_selection import train_test_split\n",
        "X_train,X_test,Y_train,Y_test=train_test_split(dt,result,test_size=0.3)\n",
        "print(X_train.shape,Y_train.shape)\n",
        "print(X_test.shape,Y_test.shape)\n",
        "from sksurv.linear_model import CoxPHSurvivalAnalysis\n",
        "estimator = CoxPHSurvivalAnalysis(alpha=1,verbose=1)\n",
        "estimator.fit(X_train, Y_train)\n",
        "from sksurv.metrics import concordance_index_censored\n",
        "print('train score')\n",
        "prediction = estimator.predict(X_train)\n",
        "result = concordance_index_censored(Y_train['Patient\\'s Vital Status'], Y_train['Survival '], prediction) \n",
        "result[0]"
      ],
      "execution_count": 11,
      "outputs": [
        {
          "output_type": "stream",
          "text": [
            "(361, 2860) (361,)\n",
            "(156, 2860) (156,)\n"
          ],
          "name": "stdout"
        },
        {
          "output_type": "stream",
          "text": [
            "/usr/local/lib/python3.6/dist-packages/sksurv/linear_model/coxph.py:64: RuntimeWarning: overflow encountered in exp\n",
            "  risk_set += numpy.exp(xw[k])\n"
          ],
          "name": "stderr"
        },
        {
          "output_type": "stream",
          "text": [
            "iter     15: optimization converged\n",
            "train score\n"
          ],
          "name": "stdout"
        },
        {
          "output_type": "execute_result",
          "data": {
            "text/plain": [
              "1.0"
            ]
          },
          "metadata": {
            "tags": []
          },
          "execution_count": 11
        }
      ]
    },
    {
      "metadata": {
        "id": "77ZmwNeLOO0P",
        "colab_type": "code",
        "outputId": "4570d9e5-ca65-4b5b-8b06-b324cb7be52f",
        "colab": {
          "base_uri": "https://localhost:8080/",
          "height": 295
        }
      },
      "cell_type": "code",
      "source": [
        "from sklearn.model_selection import cross_val_score\n",
        "print(cross_val_score(estimator,X_train,Y_train,cv=5))"
      ],
      "execution_count": 12,
      "outputs": [
        {
          "output_type": "stream",
          "text": [
            "/usr/local/lib/python3.6/dist-packages/sksurv/linear_model/coxph.py:64: RuntimeWarning: overflow encountered in exp\n",
            "  risk_set += numpy.exp(xw[k])\n"
          ],
          "name": "stderr"
        },
        {
          "output_type": "stream",
          "text": [
            "iter     23: optimization converged\n"
          ],
          "name": "stdout"
        },
        {
          "output_type": "stream",
          "text": [
            "/usr/local/lib/python3.6/dist-packages/sksurv/linear_model/coxph.py:64: RuntimeWarning: overflow encountered in exp\n",
            "  risk_set += numpy.exp(xw[k])\n"
          ],
          "name": "stderr"
        },
        {
          "output_type": "stream",
          "text": [
            "iter     24: optimization converged\n"
          ],
          "name": "stdout"
        },
        {
          "output_type": "stream",
          "text": [
            "/usr/local/lib/python3.6/dist-packages/sksurv/linear_model/coxph.py:64: RuntimeWarning: overflow encountered in exp\n",
            "  risk_set += numpy.exp(xw[k])\n"
          ],
          "name": "stderr"
        },
        {
          "output_type": "stream",
          "text": [
            "iter     23: optimization converged\n"
          ],
          "name": "stdout"
        },
        {
          "output_type": "stream",
          "text": [
            "/usr/local/lib/python3.6/dist-packages/sksurv/linear_model/coxph.py:64: RuntimeWarning: overflow encountered in exp\n",
            "  risk_set += numpy.exp(xw[k])\n"
          ],
          "name": "stderr"
        },
        {
          "output_type": "stream",
          "text": [
            "iter     18: optimization converged\n"
          ],
          "name": "stdout"
        },
        {
          "output_type": "stream",
          "text": [
            "/usr/local/lib/python3.6/dist-packages/sksurv/linear_model/coxph.py:64: RuntimeWarning: overflow encountered in exp\n",
            "  risk_set += numpy.exp(xw[k])\n"
          ],
          "name": "stderr"
        },
        {
          "output_type": "stream",
          "text": [
            "iter     16: optimization converged\n",
            "[0.51149425 0.43582641 0.54125219 0.55997552 0.56739346]\n"
          ],
          "name": "stdout"
        }
      ]
    },
    {
      "metadata": {
        "id": "6iroU_KoOO3O",
        "colab_type": "code",
        "colab": {
          "base_uri": "https://localhost:8080/",
          "height": 52
        },
        "outputId": "f9f9b76b-7ddf-4f3b-b6d7-8f49e8383c46"
      },
      "cell_type": "code",
      "source": [
        "print('test') \n",
        "from sksurv.metrics import concordance_index_censored\n",
        "prediction = estimator.predict(X_test)\n",
        "result = concordance_index_censored(Y_test['Patient\\'s Vital Status'], Y_test['Survival '], prediction)\n",
        "result[0]"
      ],
      "execution_count": 13,
      "outputs": [
        {
          "output_type": "stream",
          "text": [
            "test\n"
          ],
          "name": "stdout"
        },
        {
          "output_type": "execute_result",
          "data": {
            "text/plain": [
              "0.5334002293577982"
            ]
          },
          "metadata": {
            "tags": []
          },
          "execution_count": 13
        }
      ]
    },
    {
      "metadata": {
        "id": "RovBOlRvOO6S",
        "colab_type": "code",
        "colab": {
          "base_uri": "https://localhost:8080/",
          "height": 1092
        },
        "outputId": "b8ac997c-c665-4448-a1a1-16b8d670abbe"
      },
      "cell_type": "code",
      "source": [
        "from pandas import Series\n",
        "import numpy as np\n",
        "c=np.array(estimator.coef_)\n",
        "#predictors=X_train.columns\n",
        "pd.Series(estimator.coef_,index=X_train.columns).sort_values(ascending=False)"
      ],
      "execution_count": 14,
      "outputs": [
        {
          "output_type": "execute_result",
          "data": {
            "text/plain": [
              "ALK           1.155418\n",
              "LINC00305     1.051301\n",
              "EQTN          0.991404\n",
              "SMCO3         0.983678\n",
              "ARRDC2        0.951695\n",
              "ALG11         0.877277\n",
              "BCL2L1        0.870196\n",
              "CAND1         0.860957\n",
              "C1ORF111      0.844680\n",
              "TRAPPC3L      0.810408\n",
              "SPATA45       0.787887\n",
              "ADAM20        0.776406\n",
              "AMELX         0.740987\n",
              "APIP          0.724472\n",
              "C14ORF178     0.720474\n",
              "CAV2          0.716216\n",
              "ANKRD35       0.715413\n",
              "BCYRN1        0.697813\n",
              "SCP2D1        0.695811\n",
              "C7ORF72       0.682736\n",
              "ALG8          0.674936\n",
              "CALR3         0.668698\n",
              "BTBD18        0.662283\n",
              "C12ORF54      0.659053\n",
              "CLPSL1        0.654783\n",
              "CAPRIN2       0.649273\n",
              "BANF2         0.642966\n",
              "ADCK2         0.638482\n",
              "ANKRD36BP1    0.635255\n",
              "TRABD2A       0.628372\n",
              "                ...   \n",
              "ADAD1        -0.585428\n",
              "CACNG3       -0.589648\n",
              "ADNP         -0.594920\n",
              "ABHD12       -0.606175\n",
              "CNPPD1       -0.613863\n",
              "URI1         -0.620351\n",
              "OCSTAMP      -0.620676\n",
              "ZNF436-AS1   -0.625918\n",
              "BARX1        -0.627304\n",
              "ADHFE1       -0.627659\n",
              "BIRC8        -0.640314\n",
              "ALKBH4       -0.640641\n",
              "ASB8         -0.649706\n",
              "RBBP8NL      -0.653364\n",
              "MGARP        -0.658125\n",
              "ASAP3        -0.678796\n",
              "BYSL         -0.682402\n",
              "ARHGAP17     -0.683449\n",
              "ATMIN        -0.690027\n",
              "ACVR1        -0.702475\n",
              "CBFA2T3      -0.722686\n",
              "BPIFB1       -0.737130\n",
              "ACSL1        -0.744018\n",
              "AKT1         -0.768388\n",
              "EGFEM1P      -0.770739\n",
              "FAM228A      -0.818944\n",
              "C16ORF78     -0.824992\n",
              "C1ORF100     -0.877340\n",
              "C3ORF70      -0.884700\n",
              "APOBEC3A     -0.894730\n",
              "Length: 2860, dtype: float64"
            ]
          },
          "metadata": {
            "tags": []
          },
          "execution_count": 14
        }
      ]
    },
    {
      "metadata": {
        "id": "a_QrSI5MnaMQ",
        "colab_type": "code",
        "colab": {}
      },
      "cell_type": "code",
      "source": [
        "0.52699387+0.51820128+0.50995159+0.46604046+0.47136223"
      ],
      "execution_count": 0,
      "outputs": []
    },
    {
      "metadata": {
        "id": "iPMfoMvQnfvB",
        "colab_type": "code",
        "colab": {}
      },
      "cell_type": "code",
      "source": [
        ""
      ],
      "execution_count": 0,
      "outputs": []
    }
  ]
}